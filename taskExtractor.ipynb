{
 "cells": [
  {
   "cell_type": "code",
   "execution_count": 7,
   "id": "285a73c6",
   "metadata": {},
   "outputs": [],
   "source": [
    "from langgraph.graph import StateGraph,START,END\n",
    "from typing import TypedDict"
   ]
  },
  {
   "cell_type": "code",
   "execution_count": 8,
   "id": "bfa91959",
   "metadata": {},
   "outputs": [],
   "source": [
    "# !pip install langgraph"
   ]
  },
  {
   "cell_type": "code",
   "execution_count": null,
   "id": "6fd5492c",
   "metadata": {},
   "outputs": [],
   "source": [
    "class Task(TypedDict):\n",
    "    transcript:str\n",
    "    works:str\n",
    "    "
   ]
  },
  {
   "cell_type": "code",
   "execution_count": 48,
   "id": "7d225d11",
   "metadata": {},
   "outputs": [],
   "source": [
    "from langchain_perplexity import ChatPerplexity\n",
    "from dotenv import load_dotenv\n",
    "load_dotenv()\n",
    "\n",
    "llm=ChatPerplexity(model='sonar-pro')"
   ]
  },
  {
   "cell_type": "code",
   "execution_count": 21,
   "id": "0aa8518c",
   "metadata": {},
   "outputs": [],
   "source": [
    "def read_transcript(state:Task):\n",
    "    return state"
   ]
  },
  {
   "cell_type": "code",
   "execution_count": 35,
   "id": "3365e924",
   "metadata": {},
   "outputs": [],
   "source": [
    "from langchain.prompts import ChatPromptTemplate\n",
    "from langchain.output_parsers import PydanticOutputParser,OutputFixingParser\n",
    "from pydantic import BaseModel\n",
    "from typing import Dict\n",
    "\n",
    "class TaskModel(BaseModel):\n",
    "    ans:Dict[str,str]\n",
    "    \n",
    "parser=PydanticOutputParser(pydantic_object=TaskModel)\n",
    "\n",
    "op_fixing_parser= OutputFixingParser.from_llm(parser=parser,llm=llm)\n",
    "\n",
    "prompt=ChatPromptTemplate([(\"system\", \"You are a helpful assistant. Extract employee-task pairs from the following meeting transcript. Output only a JSON object with employee names as keys and their assigned task as values. Do not add any text outside the JSON and follow the following instructions {format_instructions}\"),(\"human\",\"{transcript}\")])\n",
    "\n",
    "prompt=prompt.partial(format_instructions=parser.get_format_instructions())\n",
    "\n",
    "\n",
    "\n",
    "chain=prompt|llm|op_fixing_parser\n",
    "\n",
    "def separate_tasks(state):\n",
    "    result=chain.invoke({\"transcript\":state[\"transcript\"]})\n",
    "    state['works']=result.ans\n",
    "    return state"
   ]
  },
  {
   "cell_type": "code",
   "execution_count": 72,
   "id": "9db5a39e",
   "metadata": {},
   "outputs": [],
   "source": [
    "import os\n",
    "from jira import JIRA\n",
    "\n",
    "\n",
    "def create_jira_tasks(state: Task):\n",
    "\n",
    "    JIRA_EMAIL = os.getenv(\"JIRA_EMAIL\")\n",
    "    JIRA_API_TOKEN = os.getenv(\"JIRA_API_TOKEN\")\n",
    "    JIRA_URL = os.getenv(\"JIRA_URL\")\n",
    "    JIRA_PROJECT_KEY = os.getenv(\"JIRA_PROJECT_KEY\")\n",
    "\n",
    "    jira = JIRA(\n",
    "        server=JIRA_URL,\n",
    "        basic_auth=(JIRA_EMAIL, JIRA_API_TOKEN)\n",
    "    )\n",
    "    \n",
    "\n",
    "    task_dict = state['works']\n",
    "    issue_keys = {}\n",
    "\n",
    "    for person, task in task_dict.items():\n",
    "        users = jira.search_users(query=person)\n",
    "        if users:\n",
    "            account_id = users[0].accountId\n",
    "        else:\n",
    "            account_id = None\n",
    "        issue_dict = {\n",
    "            'project': {'key': JIRA_PROJECT_KEY},\n",
    "            'summary': task.capitalize(),\n",
    "            'description': f\"Task assigned to {person}: {task}\",\n",
    "            'issuetype': {'name': 'Task'},\n",
    "        }\n",
    "        \n",
    "        if account_id:\n",
    "            issue_dict['assignee'] = {'accountId': account_id}\n",
    "        try:\n",
    "            issue = jira.create_issue(fields=issue_dict)\n",
    "            issue_keys[person] = issue.key\n",
    "        except Exception as e:\n",
    "            issue_keys[person] = f\"Error: {str(e)}\"\n",
    "\n",
    "    state[\"jira_issues\"] = issue_keys\n",
    "    return state\n",
    "\n"
   ]
  },
  {
   "cell_type": "code",
   "execution_count": 73,
   "id": "cc2e4456",
   "metadata": {},
   "outputs": [],
   "source": [
    "graph=StateGraph(Task)\n",
    "\n",
    "graph.add_node(\"read_transcript\",read_transcript)\n",
    "\n",
    "graph.add_node(\"separate_tasks\",separate_tasks)\n",
    "\n",
    "graph.add_node(\"create_jira_tasks\",create_jira_tasks)\n",
    "\n",
    "graph.add_edge(START,\"read_transcript\")\n",
    "\n",
    "graph.add_edge(\"read_transcript\",\"separate_tasks\")\n",
    "\n",
    "graph.add_edge(\"separate_tasks\",\"create_jira_tasks\")\n",
    "\n",
    "graph.add_edge(\"create_jira_tasks\",END)\n",
    "\n",
    "\n",
    "workflow=graph.compile()"
   ]
  },
  {
   "cell_type": "code",
   "execution_count": null,
   "id": "cfaa8abb",
   "metadata": {},
   "outputs": [
    {
     "data": {
      "image/png": "[encoded data removed]",
      "text/plain": [
       "<langgraph.graph.state.CompiledStateGraph object at 0x0000017B0E1C5C10>"
      ]
     },
     "execution_count": 74,
     "metadata": {},
     "output_type": "execute_result"
    }
   ],
   "source": [
    "# workflow  "
   ]
  },
  {
   "cell_type": "code",
   "execution_count": 77,
   "id": "17afd730",
   "metadata": {},
   "outputs": [
    {
     "data": {
      "text/plain": [
       "{'transcript': 'max will continue hi shalvi good moringng, good morning team,yesterday i have worked on building some llms and today i will continue building them . ok max now yogit will continue hi shalvi  yesterday i have dealt with the bugs in the production and today i am planning on dokerizing the ondc application',\n",
       " 'works': {'Max': 'Continue building some LLMs',\n",
       "  'Yogit': 'Dockerizing the ONDC application'}}"
      ]
     },
     "execution_count": 77,
     "metadata": {},
     "output_type": "execute_result"
    }
   ],
   "source": [
    "initial_state={'transcript':\"max will continue hi shalvi good moringng, good morning team,yesterday i have worked on building some llms and today i will continue building them . ok max now yogit will continue hi shalvi  yesterday i have dealt with the bugs in the production and today i am planning on dokerizing the ondc application\",\"works\":\"\"}\n",
    "workflow.invoke(initial_state)"
   ]
  },
  {
   "cell_type": "code",
   "execution_count": 76,
   "id": "e41107d7",
   "metadata": {},
   "outputs": [],
   "source": [
    "# !pip install jira\n",
    "# !pip install os"
   ]
  },
  {
   "cell_type": "code",
   "execution_count": 67,
   "id": "ffb3abf3",
   "metadata": {},
   "outputs": [
    {
     "name": "stdout",
     "output_type": "stream",
     "text": [
      "yogit.gurram 712020:c02dd8be-4d03-4c6b-a6fa-38059e4775de\n"
     ]
    }
   ],
   "source": [
    "users = jira.search_users(query='yogit')\n",
    "if users:\n",
    "    account_id = users[0].accountId\n",
    "else:\n",
    "    account_id = None\n",
    "for i in users:\n",
    "    print(i.displayName, i.accountId)"
   ]
  },
  {
   "cell_type": "code",
   "execution_count": null,
   "id": "0252e078",
   "metadata": {},
   "outputs": [],
   "source": []
  },
  {
   "cell_type": "code",
   "execution_count": null,
   "id": "07008194",
   "metadata": {},
   "outputs": [],
   "source": []
  }
 ],
 "metadata": {
  "kernelspec": {
   "display_name": "Python (venv)",
   "language": "python",
   "name": "venv"
  },
  "language_info": {
   "codemirror_mode": {
    "name": "ipython",
    "version": 3
   },
   "file_extension": ".py",
   "mimetype": "text/x-python",
   "name": "python",
   "nbconvert_exporter": "python",
   "pygments_lexer": "ipython3",
   "version": "3.12.1"
  }
 },
 "nbformat": 4,
 "nbformat_minor": 5
}
